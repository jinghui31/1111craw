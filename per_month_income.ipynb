{
 "cells": [
  {
   "cell_type": "code",
   "execution_count": 97,
   "metadata": {},
   "outputs": [],
   "source": [
    "import json\n",
    "import requests\n",
    "import pandas as pd\n",
    "\n",
    "url = \"http://mops.twse.com.tw/mops/web/ajax_t05st10_ifrs\"\n",
    "data = json.loads(r'''{\n",
    "    \"encodeURIComponent\": \"1\",\n",
    "    \"step\": \"1\",\n",
    "    \"firstin\": \"1\",\n",
    "    \"off\": \"1\",\n",
    "    \"keyword4\": \"\",\n",
    "    \"code1\": \"\",\n",
    "    \"TYPEK2\": \"\",\n",
    "    \"checkbtn\": \"\",\n",
    "    \"queryName\": \"co_id\",\n",
    "    \"inpuType\": \"co_id\",\n",
    "    \"TYPEK\": \"all\",\n",
    "    \"isnew\": \"true\",\n",
    "    \"year\": \"\",\n",
    "    \"month\": \"\"\n",
    "}''')\n",
    "\n",
    "with open('stock.txt') as f:\n",
    "    test = f.read()\n",
    "month = test.strip().split()\n",
    "\n",
    "dfData = []\n",
    "\n",
    "for num in range(0, len(month)):\n",
    "    data['co_id'] = str(month[num])\n",
    "    resp = requests.post(url, data = data)\n",
    "    resp.encoding = 'utf8'\n",
    "    df = pd.read_html(resp.text)\n",
    "    dfData.extend(df)\n",
    "\n",
    "df1 = pd.DataFrame(dfData)\n",
    "df1.to_csv('per_month_income.csv')"
   ]
  },
  {
   "cell_type": "code",
   "execution_count": null,
   "metadata": {},
   "outputs": [],
   "source": []
  }
 ],
 "metadata": {
  "kernelspec": {
   "display_name": "Python 3",
   "language": "python",
   "name": "python3"
  },
  "language_info": {
   "codemirror_mode": {
    "name": "ipython",
    "version": 3
   },
   "file_extension": ".py",
   "mimetype": "text/x-python",
   "name": "python",
   "nbconvert_exporter": "python",
   "pygments_lexer": "ipython3",
   "version": "3.6.3"
  }
 },
 "nbformat": 4,
 "nbformat_minor": 2
}
