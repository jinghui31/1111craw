{
 "cells": [
  {
   "cell_type": "code",
   "execution_count": 55,
   "metadata": {},
   "outputs": [],
   "source": [
    "import re\n",
    "import requests\n",
    "import json\n",
    "import time\n",
    "import pandas as pd\n",
    "from bs4 import BeautifulSoup"
   ]
  },
  {
   "cell_type": "code",
   "execution_count": 56,
   "metadata": {},
   "outputs": [],
   "source": [
    "def get_total_page_cnt():\n",
    "    URL = \"https://www.1111.com.tw/job-bank/job-index.asp?si=1&ss=s&d0=140202&c0=100100,100200\"\n",
    "\n",
    "    resp = requests.get(URL, headers={\"User-Agent\": \"Mozilla/5.0 (Macintosh; Intel Mac OS X 10_13_2) AppleWebKit/537.36 (KHTML, like Gecko) Chrome/63.0.3239.132 Safari/537.36\"})\n",
    "\n",
    "    # 這個符號\n",
    "    # ‹-> &lsaquo;\n",
    "    total_page_cnt = int(re.findall('第 1 / (\\d+) 頁', resp.text)[0])\n",
    "    return total_page_cnt"
   ]
  },
  {
   "cell_type": "code",
   "execution_count": 57,
   "metadata": {},
   "outputs": [],
   "source": [
    "def get_list_page(url):\n",
    "    \"\"\"爬取PTT列表頁面\n",
    "\n",
    "    Parameters\n",
    "    ----------\n",
    "    url : str\n",
    "        PTT列表頁UTL，\n",
    "        如：https://www.ptt.cc/bbs/Gossiping/index31063.html\n",
    "\n",
    "    Returns\n",
    "    -------\n",
    "    list\n",
    "        頁面上所有PTT內文URL\n",
    "    \"\"\"\n",
    "    HOST = \"https://www.1111.com.tw/\"\n",
    "    links = re.findall('<div class=\"jbInfoin\"><h3><a href=\"//www.1111.com.tw/(job/\\d+/).*\"', resp.text)\n",
    "    detail_page_links = [HOST + link for link in links]\n",
    "    return detail_page_links"
   ]
  },
  {
   "cell_type": "code",
   "execution_count": 58,
   "metadata": {},
   "outputs": [
    {
     "data": {
      "text/plain": [
       "106"
      ]
     },
     "execution_count": 58,
     "metadata": {},
     "output_type": "execute_result"
    }
   ],
   "source": [
    "get_total_page_cnt()"
   ]
  },
  {
   "cell_type": "code",
   "execution_count": 59,
   "metadata": {},
   "outputs": [
    {
     "name": "stdout",
     "output_type": "stream",
     "text": [
      "Requirement already satisfied: beautifulsoup4 in ./anaconda3/lib/python3.6/site-packages\r\n",
      "Requirement already satisfied: lxml in ./anaconda3/lib/python3.6/site-packages\r\n"
     ]
    }
   ],
   "source": [
    "!pip install beautifulsoup4 lxml"
   ]
  },
  {
   "cell_type": "code",
   "execution_count": 60,
   "metadata": {},
   "outputs": [],
   "source": [
    "URL_TEMPLATE = \"https://www.1111.com.tw/job-bank/job-index.asp?si=1&ss=s&d0=140202&c0=100100,100200&page={}\"\n",
    "\n",
    "total_page_cnt = get_total_page_cnt() + 1\n",
    "\n",
    "for pg in range(1, total_page_cnt, 1):\n",
    "    url = URL_TEMPLATE.format(pg)\n",
    "    for link in get_list_page(url):\n",
    "        print(link)"
   ]
  },
  {
   "cell_type": "code",
   "execution_count": 53,
   "metadata": {},
   "outputs": [],
   "source": [
    "URL = \"https://www.1111.com.tw/job/71338908/\"\n",
    "resp = requests.get(URL)\n",
    "soup = BeautifulSoup(resp.text, 'lxml')"
   ]
  },
  {
   "cell_type": "code",
   "execution_count": 32,
   "metadata": {},
   "outputs": [],
   "source": [
    "meta_list = [link.split('/')[-2],\n",
    "             soup.select_one('li.ellipsis').text,\n",
    "             soup.select_one('h1').text.strip(),\n",
    "             re.findall('│工作內容：(.*),意者請上1111投遞履歷表安排面試。\"', resp.text)[0]]"
   ]
  },
  {
   "cell_type": "code",
   "execution_count": 33,
   "metadata": {},
   "outputs": [
    {
     "data": {
      "text/plain": [
       "{'company': '旺普科技有限公司',\n",
       " 'content': '熟悉 MCU撰寫3年以上經驗具(ATMEL,ST尤佳)具耐心,溝通學習能力.會寫Firmware.',\n",
       " 'title': '韌體工程師面議 / 3年以上工作經驗 / 大學 以上',\n",
       " 'url': '80263677'}"
      ]
     },
     "execution_count": 33,
     "metadata": {},
     "output_type": "execute_result"
    }
   ],
   "source": [
    "dict_key = ['url', 'company', 'title', 'content']\n",
    "\n",
    "# dictionary comprehension\n",
    "page = {k:v for k, v in zip(dict_key, meta_list)}\n",
    "page"
   ]
  },
  {
   "cell_type": "code",
   "execution_count": 34,
   "metadata": {},
   "outputs": [
    {
     "data": {
      "text/plain": [
       "company                                             旺普科技有限公司\n",
       "content    熟悉 MCU撰寫3年以上經驗具(ATMEL,ST尤佳)具耐心,溝通學習能力.會寫Firmware.\n",
       "title                             韌體工程師面議 / 3年以上工作經驗 / 大學 以上\n",
       "url                                                 80263677\n",
       "dtype: object"
      ]
     },
     "execution_count": 34,
     "metadata": {},
     "output_type": "execute_result"
    }
   ],
   "source": [
    "df = pd.Series(page)\n",
    "df"
   ]
  },
  {
   "cell_type": "code",
   "execution_count": null,
   "metadata": {},
   "outputs": [],
   "source": []
  }
 ],
 "metadata": {
  "kernelspec": {
   "display_name": "Python 3",
   "language": "python",
   "name": "python3"
  },
  "language_info": {
   "codemirror_mode": {
    "name": "ipython",
    "version": 3
   },
   "file_extension": ".py",
   "mimetype": "text/x-python",
   "name": "python",
   "nbconvert_exporter": "python",
   "pygments_lexer": "ipython3",
   "version": "3.6.3"
  }
 },
 "nbformat": 4,
 "nbformat_minor": 2
}
